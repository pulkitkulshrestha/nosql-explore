{
 "cells": [
  {
   "cell_type": "code",
   "execution_count": 42,
   "metadata": {},
   "outputs": [],
   "source": [
    "from unqlite import UnQLite\n",
    "\n",
    "db = UnQLite('sample.db')\n",
    "data = db.collection('data')"
   ]
  },
  {
   "cell_type": "code",
   "execution_count": 43,
   "metadata": {},
   "outputs": [],
   "source": [
    "# Graded Cell, PartID: o1flK\n",
    "import math\n",
    "\n",
    "def FindBusinessBasedOnCity(cityToSearch, saveLocation1, collection):\n",
    "    output = []\n",
    "    for val in range(len(collection.all())):\n",
    "        res = collection.fetch(val)\n",
    "        if res['city'] == cityToSearch:\n",
    "                name = res['name']\n",
    "                state = res['state']\n",
    "                city = res['city']\n",
    "                addr = res['full_address']\n",
    "                output.append([name, addr, city, state])\n",
    "\n",
    "    \n",
    "    with open(saveLocation1, \"w\") as f:\n",
    "        for i in output:\n",
    "            f.write(\"$\".join(i) + \"\\n\")\n",
    "\n",
    "def Distance(lat2, lon2, lat1, lon1):\n",
    "    R = 3959\n",
    "    phi_1 = math.radians(lat1)\n",
    "    phi_2 = math.radians(lat2)\n",
    "    delta_phi = math.radians(lat2 - lat1)\n",
    "    delta_lambda = math.radians(lon2 - lon1)\n",
    "    a = math.sin(delta_phi/2) * math.sin(delta_phi/2) + math.cos(phi_1) * math.cos(phi_2) * math.sin(delta_lambda/2)* math.sin(delta_lambda/2)\n",
    "    c = 2 * math.atan2(math.sqrt(a), math.sqrt(1 - a))\n",
    "    d = R * c\n",
    "    return d\n",
    "\n",
    "def FindBusinessBasedOnLocation(categoriesToSearch, myLocation, maxDistance, saveLocation2, collection):\n",
    "    output = []\n",
    "    for val in range(len(collection.all())):\n",
    "        res = collection.fetch(val)\n",
    "        biz_lat = res['latitude']\n",
    "        biz_lon = res['longitude']\n",
    "\n",
    "        biz_dis = Distance(biz_lat, biz_lon, myLocation[0], myLocation[1])\n",
    "\n",
    "        if biz_dis <= maxDistance:\n",
    "            for cat in categoriesToSearch:\n",
    "                if cat in res['categories']:\n",
    "                    output.append(res['name'])\n",
    "                    break\n",
    "\n",
    "    with open(saveLocation2, \"w\") as f:\n",
    "        for i in output:\n",
    "            f.write(i + \"\\n\")"
   ]
  },
  {
   "cell_type": "code",
   "execution_count": 46,
   "metadata": {},
   "outputs": [
    {
     "name": "stdout",
     "output_type": "stream",
     "text": [
      "Correct! You FindBusinessByCity function passes these test cases. This does not cover all possible test edge cases, however, so make sure that your function covers them before submitting!\n"
     ]
    }
   ],
   "source": [
    "true_results = [\"VinciTorio's Restaurant$1835 E Elliot Rd, Ste C109, Tempe, AZ 85284$Tempe$AZ\", \"P.croissants$7520 S Rural Rd, Tempe, AZ 85283$Tempe$AZ\", \"Salt Creek Home$1725 W Ruby Dr, Tempe, AZ 85284$Tempe$AZ\"]\n",
    "\n",
    "try:\n",
    "    FindBusinessBasedOnCity('Tempe', 'output_city.txt', data)\n",
    "except NameError as e:\n",
    "    print ('The FindBusinessBasedOnCity function is not defined! You must run the cell containing the function before running this evaluation cell.')\n",
    "except TypeError as e:\n",
    "    print (\"The FindBusinessBasedOnCity function is supposed to accept three arguments. Yours does not!\")\n",
    "    \n",
    "try:\n",
    "    opf = open('output_city.txt', 'r')\n",
    "except FileNotFoundError as e:\n",
    "    print (\"The FindBusinessBasedOnCity function does not write data to the correct location.\")\n",
    "    \n",
    "lines = opf.readlines()\n",
    "if len(lines) != 3:\n",
    "    print (\"The FindBusinessBasedOnCity function does not find the correct number of results, should be 3.\")\n",
    "    \n",
    "lines = [line.strip() for line in lines]\n",
    "if sorted(lines) == sorted(true_results):\n",
    "    print (\"Correct! You FindBusinessByCity function passes these test cases. This does not cover all possible test edge cases, however, so make sure that your function covers them before submitting!\")\n",
    "    \n"
   ]
  },
  {
   "cell_type": "code",
   "execution_count": 47,
   "metadata": {},
   "outputs": [
    {
     "name": "stdout",
     "output_type": "stream",
     "text": [
      "Correct! Your FindBusinessBasedOnLocation function passes these test cases. This does not cover all possible edge cases, so make sure your function does before submitting.\n"
     ]
    }
   ],
   "source": [
    "true_results = [\"VinciTorio's Restaurant\"]\n",
    "\n",
    "try:\n",
    "    FindBusinessBasedOnLocation(['Buffets'], [33.3482589, -111.9088346], 10, 'output_loc.txt', data)\n",
    "except NameError as e: \n",
    "    print ('The FindBusinessBasedOnLocation function is not defined! You must run the cell containing the function before running this evaluation cell.')\n",
    "except TypeError as e:\n",
    "    print (\"The FindBusinessBasedOnLocation function is supposed to accept five arguments. Yours does not!\")\n",
    "    \n",
    "try:\n",
    "    opf = open('output_loc.txt','r')\n",
    "except FileNotFoundError as e:\n",
    "    print (\"The FindBusinessBasedOnLocation function does not write data to the correct location.\")\n",
    "\n",
    "lines = opf.readlines()\n",
    "if len(lines) != 1:\n",
    "    print (\"The FindBusinessBasedOnLocation function does not find the correct number of results, should be only 1.\")\n",
    "\n",
    "if lines[0].strip() == true_results[0]:\n",
    "    print (\"Correct! Your FindBusinessBasedOnLocation function passes these test cases. This does not cover all possible edge cases, so make sure your function does before submitting.\")\n",
    "    \n",
    "\n"
   ]
  },
  {
   "cell_type": "code",
   "execution_count": null,
   "metadata": {},
   "outputs": [],
   "source": []
  },
  {
   "cell_type": "code",
   "execution_count": null,
   "metadata": {},
   "outputs": [],
   "source": []
  },
  {
   "cell_type": "code",
   "execution_count": null,
   "metadata": {},
   "outputs": [],
   "source": []
  }
 ],
 "metadata": {
  "kernelspec": {
   "display_name": "Python 3 (ipykernel)",
   "language": "python",
   "name": "python3"
  },
  "language_info": {
   "codemirror_mode": {
    "name": "ipython",
    "version": 3
   },
   "file_extension": ".py",
   "mimetype": "text/x-python",
   "name": "python",
   "nbconvert_exporter": "python",
   "pygments_lexer": "ipython3",
   "version": "3.8.8"
  }
 },
 "nbformat": 4,
 "nbformat_minor": 2
}
